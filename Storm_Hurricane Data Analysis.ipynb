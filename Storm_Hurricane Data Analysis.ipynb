{
 "cells": [
  {
   "cell_type": "markdown",
   "id": "aca6f9e1",
   "metadata": {},
   "source": [
    "# Analysis of US storm data from 1851 -2020 \n",
    "\n",
    "### DATA SOURCE:US Hurricane Data: 1851-2020\n",
    "    Our source for “Continental United States Hurricane Impacts/Landfalls” data is this NOAA webpage."
   ]
  },
  {
   "cell_type": "code",
   "execution_count": 1,
   "id": "9c674f79",
   "metadata": {},
   "outputs": [],
   "source": [
    "import pandas as pd                      #import the important libraries\n",
    "import matplotlib.pyplot as plt\n",
    "import numpy as np\n",
    "import seaborn as sns \n",
    "%matplotlib inline"
   ]
  },
  {
   "cell_type": "code",
   "execution_count": 2,
   "id": "d3e39c8a",
   "metadata": {},
   "outputs": [],
   "source": [
    "df1=pd.read_excel('stormdata.xlsx')"
   ]
  },
  {
   "cell_type": "code",
   "execution_count": 3,
   "id": "95cbb8b1",
   "metadata": {},
   "outputs": [
    {
     "data": {
      "text/html": [
       "<div>\n",
       "<style scoped>\n",
       "    .dataframe tbody tr th:only-of-type {\n",
       "        vertical-align: middle;\n",
       "    }\n",
       "\n",
       "    .dataframe tbody tr th {\n",
       "        vertical-align: top;\n",
       "    }\n",
       "\n",
       "    .dataframe thead th {\n",
       "        text-align: right;\n",
       "    }\n",
       "</style>\n",
       "<table border=\"1\" class=\"dataframe\">\n",
       "  <thead>\n",
       "    <tr style=\"text-align: right;\">\n",
       "      <th></th>\n",
       "      <th>Year</th>\n",
       "      <th>Month</th>\n",
       "      <th>States Affected and Category by States</th>\n",
       "      <th>U.S. Category</th>\n",
       "      <th>Central Pressure</th>\n",
       "      <th>Max Wind</th>\n",
       "      <th>Name</th>\n",
       "    </tr>\n",
       "  </thead>\n",
       "  <tbody>\n",
       "    <tr>\n",
       "      <th>0</th>\n",
       "      <td>1850s</td>\n",
       "      <td>NaN</td>\n",
       "      <td>NaN</td>\n",
       "      <td>NaN</td>\n",
       "      <td>NaN</td>\n",
       "      <td>NaN</td>\n",
       "      <td>NaN</td>\n",
       "    </tr>\n",
       "    <tr>\n",
       "      <th>1</th>\n",
       "      <td>1851</td>\n",
       "      <td>Jun</td>\n",
       "      <td>TX, C1</td>\n",
       "      <td>1.0</td>\n",
       "      <td>974.0</td>\n",
       "      <td>80</td>\n",
       "      <td>-----</td>\n",
       "    </tr>\n",
       "    <tr>\n",
       "      <th>2</th>\n",
       "      <td>1851</td>\n",
       "      <td>Aug</td>\n",
       "      <td>FL, NW3; I-GA, 1</td>\n",
       "      <td>3.0</td>\n",
       "      <td>955.0</td>\n",
       "      <td>100</td>\n",
       "      <td>\"Great Middle Florida\"</td>\n",
       "    </tr>\n",
       "    <tr>\n",
       "      <th>3</th>\n",
       "      <td>1852</td>\n",
       "      <td>Aug</td>\n",
       "      <td>AL, 3; MS, 3; LA, 2; FL, SW2, NW1</td>\n",
       "      <td>3.0</td>\n",
       "      <td>961.0</td>\n",
       "      <td>100</td>\n",
       "      <td>\"Great Mobile\"</td>\n",
       "    </tr>\n",
       "    <tr>\n",
       "      <th>4</th>\n",
       "      <td>1852</td>\n",
       "      <td>Sep</td>\n",
       "      <td>FL, SW1</td>\n",
       "      <td>1.0</td>\n",
       "      <td>982.0</td>\n",
       "      <td>70</td>\n",
       "      <td>-----</td>\n",
       "    </tr>\n",
       "  </tbody>\n",
       "</table>\n",
       "</div>"
      ],
      "text/plain": [
       "    Year Month States Affected and Category by States  U.S. Category  \\\n",
       "0  1850s   NaN                                    NaN            NaN   \n",
       "1   1851   Jun                                 TX, C1            1.0   \n",
       "2   1851   Aug                       FL, NW3; I-GA, 1            3.0   \n",
       "3   1852   Aug      AL, 3; MS, 3; LA, 2; FL, SW2, NW1            3.0   \n",
       "4   1852   Sep                                FL, SW1            1.0   \n",
       "\n",
       "   Central Pressure Max Wind                    Name  \n",
       "0               NaN      NaN                     NaN  \n",
       "1             974.0       80                   -----  \n",
       "2             955.0      100  \"Great Middle Florida\"  \n",
       "3             961.0      100          \"Great Mobile\"  \n",
       "4             982.0       70                   -----  "
      ]
     },
     "execution_count": 3,
     "metadata": {},
     "output_type": "execute_result"
    }
   ],
   "source": [
    "df1.head(5)"
   ]
  },
  {
   "cell_type": "markdown",
   "id": "bf717749",
   "metadata": {},
   "source": [
    "# DATA FILTERING"
   ]
  },
  {
   "cell_type": "code",
   "execution_count": 4,
   "id": "7e33e10c",
   "metadata": {},
   "outputs": [],
   "source": [
    "df1.columns =['Year', 'Month', 'States', 'Category', \n",
    "             'Pressure', 'Max Wind', 'Name']  "
   ]
  },
  {
   "cell_type": "markdown",
   "id": "55f8d61d",
   "metadata": {},
   "source": [
    "#### month column has some rows which are formatted as Sp-Oc and Jl-Au which needs to be formatted similar to all the rows in the column"
   ]
  },
  {
   "cell_type": "code",
   "execution_count": 5,
   "id": "62b31b75",
   "metadata": {},
   "outputs": [
    {
     "data": {
      "text/html": [
       "<div>\n",
       "<style scoped>\n",
       "    .dataframe tbody tr th:only-of-type {\n",
       "        vertical-align: middle;\n",
       "    }\n",
       "\n",
       "    .dataframe tbody tr th {\n",
       "        vertical-align: top;\n",
       "    }\n",
       "\n",
       "    .dataframe thead th {\n",
       "        text-align: right;\n",
       "    }\n",
       "</style>\n",
       "<table border=\"1\" class=\"dataframe\">\n",
       "  <thead>\n",
       "    <tr style=\"text-align: right;\">\n",
       "      <th></th>\n",
       "      <th>Year</th>\n",
       "      <th>Month</th>\n",
       "      <th>States</th>\n",
       "      <th>Category</th>\n",
       "      <th>Pressure</th>\n",
       "      <th>Max Wind</th>\n",
       "      <th>Name</th>\n",
       "    </tr>\n",
       "  </thead>\n",
       "  <tbody>\n",
       "    <tr>\n",
       "      <th>172</th>\n",
       "      <td>1929</td>\n",
       "      <td>Sp-Oc</td>\n",
       "      <td>FL, SE3, SW2, NW1</td>\n",
       "      <td>3.0</td>\n",
       "      <td>948.0</td>\n",
       "      <td>100</td>\n",
       "      <td>-----</td>\n",
       "    </tr>\n",
       "  </tbody>\n",
       "</table>\n",
       "</div>"
      ],
      "text/plain": [
       "     Year  Month             States  Category  Pressure Max Wind   Name\n",
       "172  1929  Sp-Oc  FL, SE3, SW2, NW1       3.0     948.0      100  -----"
      ]
     },
     "execution_count": 5,
     "metadata": {},
     "output_type": "execute_result"
    }
   ],
   "source": [
    "df1.loc[df1['Month']=='Sp-Oc']"
   ]
  },
  {
   "cell_type": "code",
   "execution_count": 6,
   "id": "b73957b2",
   "metadata": {},
   "outputs": [
    {
     "data": {
      "text/html": [
       "<div>\n",
       "<style scoped>\n",
       "    .dataframe tbody tr th:only-of-type {\n",
       "        vertical-align: middle;\n",
       "    }\n",
       "\n",
       "    .dataframe tbody tr th {\n",
       "        vertical-align: top;\n",
       "    }\n",
       "\n",
       "    .dataframe thead th {\n",
       "        text-align: right;\n",
       "    }\n",
       "</style>\n",
       "<table border=\"1\" class=\"dataframe\">\n",
       "  <thead>\n",
       "    <tr style=\"text-align: right;\">\n",
       "      <th></th>\n",
       "      <th>Year</th>\n",
       "      <th>Month</th>\n",
       "      <th>States</th>\n",
       "      <th>Category</th>\n",
       "      <th>Pressure</th>\n",
       "      <th>Max Wind</th>\n",
       "      <th>Name</th>\n",
       "    </tr>\n",
       "  </thead>\n",
       "  <tbody>\n",
       "    <tr>\n",
       "      <th>178</th>\n",
       "      <td>1933</td>\n",
       "      <td>Jl-Au</td>\n",
       "      <td># TX, S1; FL, SE1</td>\n",
       "      <td>1.0</td>\n",
       "      <td>975.0</td>\n",
       "      <td>80</td>\n",
       "      <td>-----</td>\n",
       "    </tr>\n",
       "  </tbody>\n",
       "</table>\n",
       "</div>"
      ],
      "text/plain": [
       "     Year  Month             States  Category  Pressure Max Wind   Name\n",
       "178  1933  Jl-Au  # TX, S1; FL, SE1       1.0     975.0       80  -----"
      ]
     },
     "execution_count": 6,
     "metadata": {},
     "output_type": "execute_result"
    }
   ],
   "source": [
    "df1.loc[df1['Month']=='Jl-Au']"
   ]
  },
  {
   "cell_type": "code",
   "execution_count": 7,
   "id": "b1ab2fb0",
   "metadata": {},
   "outputs": [],
   "source": [
    "df1 = df1.replace('Sp-Oc','Sep')   #Replacing the column string\n",
    "df1 = df1.replace('Jl-Au','Jul')"
   ]
  },
  {
   "cell_type": "code",
   "execution_count": 8,
   "id": "6e894ae3",
   "metadata": {},
   "outputs": [
    {
     "data": {
      "text/plain": [
       "'Jul'"
      ]
     },
     "execution_count": 8,
     "metadata": {},
     "output_type": "execute_result"
    }
   ],
   "source": [
    "df1.iloc[178,1]  # verifying "
   ]
  },
  {
   "cell_type": "markdown",
   "id": "e99365ae",
   "metadata": {},
   "source": [
    "### Dataframe has irregularities such as there are irrelevant rows with year as 1850s which need to be eliminated\n",
    "\n",
    "#### using condition to filter the dataframe"
   ]
  },
  {
   "cell_type": "code",
   "execution_count": 9,
   "id": "70c5617d",
   "metadata": {},
   "outputs": [],
   "source": [
    "df1=df1[df1['Year'].str.contains(\"s\")!=True]"
   ]
  },
  {
   "cell_type": "code",
   "execution_count": 10,
   "id": "1e8060d2",
   "metadata": {},
   "outputs": [
    {
     "data": {
      "text/html": [
       "<div>\n",
       "<style scoped>\n",
       "    .dataframe tbody tr th:only-of-type {\n",
       "        vertical-align: middle;\n",
       "    }\n",
       "\n",
       "    .dataframe tbody tr th {\n",
       "        vertical-align: top;\n",
       "    }\n",
       "\n",
       "    .dataframe thead th {\n",
       "        text-align: right;\n",
       "    }\n",
       "</style>\n",
       "<table border=\"1\" class=\"dataframe\">\n",
       "  <thead>\n",
       "    <tr style=\"text-align: right;\">\n",
       "      <th></th>\n",
       "      <th>Year</th>\n",
       "      <th>Month</th>\n",
       "      <th>States</th>\n",
       "      <th>Category</th>\n",
       "      <th>Pressure</th>\n",
       "      <th>Max Wind</th>\n",
       "      <th>Name</th>\n",
       "    </tr>\n",
       "  </thead>\n",
       "  <tbody>\n",
       "    <tr>\n",
       "      <th>1</th>\n",
       "      <td>1851</td>\n",
       "      <td>Jun</td>\n",
       "      <td>TX, C1</td>\n",
       "      <td>1.0</td>\n",
       "      <td>974.0</td>\n",
       "      <td>80</td>\n",
       "      <td>-----</td>\n",
       "    </tr>\n",
       "    <tr>\n",
       "      <th>2</th>\n",
       "      <td>1851</td>\n",
       "      <td>Aug</td>\n",
       "      <td>FL, NW3; I-GA, 1</td>\n",
       "      <td>3.0</td>\n",
       "      <td>955.0</td>\n",
       "      <td>100</td>\n",
       "      <td>\"Great Middle Florida\"</td>\n",
       "    </tr>\n",
       "    <tr>\n",
       "      <th>3</th>\n",
       "      <td>1852</td>\n",
       "      <td>Aug</td>\n",
       "      <td>AL, 3; MS, 3; LA, 2; FL, SW2, NW1</td>\n",
       "      <td>3.0</td>\n",
       "      <td>961.0</td>\n",
       "      <td>100</td>\n",
       "      <td>\"Great Mobile\"</td>\n",
       "    </tr>\n",
       "    <tr>\n",
       "      <th>4</th>\n",
       "      <td>1852</td>\n",
       "      <td>Sep</td>\n",
       "      <td>FL, SW1</td>\n",
       "      <td>1.0</td>\n",
       "      <td>982.0</td>\n",
       "      <td>70</td>\n",
       "      <td>-----</td>\n",
       "    </tr>\n",
       "    <tr>\n",
       "      <th>5</th>\n",
       "      <td>1852</td>\n",
       "      <td>Oct</td>\n",
       "      <td>FL, NW2; I-GA, 1</td>\n",
       "      <td>2.0</td>\n",
       "      <td>965.0</td>\n",
       "      <td>90</td>\n",
       "      <td>\"Middle Florida\"</td>\n",
       "    </tr>\n",
       "    <tr>\n",
       "      <th>6</th>\n",
       "      <td>1853</td>\n",
       "      <td>Oct</td>\n",
       "      <td>* GA, 1</td>\n",
       "      <td>1.0</td>\n",
       "      <td>965.0</td>\n",
       "      <td>70</td>\n",
       "      <td>-----</td>\n",
       "    </tr>\n",
       "  </tbody>\n",
       "</table>\n",
       "</div>"
      ],
      "text/plain": [
       "   Year Month                             States  Category  Pressure Max Wind  \\\n",
       "1  1851   Jun                             TX, C1       1.0     974.0       80   \n",
       "2  1851   Aug                   FL, NW3; I-GA, 1       3.0     955.0      100   \n",
       "3  1852   Aug  AL, 3; MS, 3; LA, 2; FL, SW2, NW1       3.0     961.0      100   \n",
       "4  1852   Sep                            FL, SW1       1.0     982.0       70   \n",
       "5  1852   Oct                   FL, NW2; I-GA, 1       2.0     965.0       90   \n",
       "6  1853   Oct                            * GA, 1       1.0     965.0       70   \n",
       "\n",
       "                     Name  \n",
       "1                   -----  \n",
       "2  \"Great Middle Florida\"  \n",
       "3          \"Great Mobile\"  \n",
       "4                   -----  \n",
       "5        \"Middle Florida\"  \n",
       "6                   -----  "
      ]
     },
     "execution_count": 10,
     "metadata": {},
     "output_type": "execute_result"
    }
   ],
   "source": [
    "df1.head(6)"
   ]
  },
  {
   "cell_type": "markdown",
   "id": "4cc3c249",
   "metadata": {},
   "source": [
    "# Filtering the NULL values"
   ]
  },
  {
   "cell_type": "code",
   "execution_count": 11,
   "id": "77b10b6d",
   "metadata": {},
   "outputs": [],
   "source": [
    "df1=df1[df1.Month.str.contains(\"None\")!=True]"
   ]
  },
  {
   "cell_type": "code",
   "execution_count": 12,
   "id": "85424f51",
   "metadata": {},
   "outputs": [],
   "source": [
    "df1[\"Month\"] = pd.to_datetime(df1.Month, format='%b').dt.month"
   ]
  },
  {
   "cell_type": "code",
   "execution_count": 13,
   "id": "292683ad",
   "metadata": {},
   "outputs": [
    {
     "data": {
      "text/html": [
       "<div>\n",
       "<style scoped>\n",
       "    .dataframe tbody tr th:only-of-type {\n",
       "        vertical-align: middle;\n",
       "    }\n",
       "\n",
       "    .dataframe tbody tr th {\n",
       "        vertical-align: top;\n",
       "    }\n",
       "\n",
       "    .dataframe thead th {\n",
       "        text-align: right;\n",
       "    }\n",
       "</style>\n",
       "<table border=\"1\" class=\"dataframe\">\n",
       "  <thead>\n",
       "    <tr style=\"text-align: right;\">\n",
       "      <th></th>\n",
       "      <th>Year</th>\n",
       "      <th>Month</th>\n",
       "      <th>States</th>\n",
       "      <th>Category</th>\n",
       "      <th>Pressure</th>\n",
       "      <th>Max Wind</th>\n",
       "      <th>Name</th>\n",
       "    </tr>\n",
       "  </thead>\n",
       "  <tbody>\n",
       "    <tr>\n",
       "      <th>1</th>\n",
       "      <td>1851</td>\n",
       "      <td>6.0</td>\n",
       "      <td>TX, C1</td>\n",
       "      <td>1.0</td>\n",
       "      <td>974.0</td>\n",
       "      <td>80</td>\n",
       "      <td>-----</td>\n",
       "    </tr>\n",
       "    <tr>\n",
       "      <th>2</th>\n",
       "      <td>1851</td>\n",
       "      <td>8.0</td>\n",
       "      <td>FL, NW3; I-GA, 1</td>\n",
       "      <td>3.0</td>\n",
       "      <td>955.0</td>\n",
       "      <td>100</td>\n",
       "      <td>\"Great Middle Florida\"</td>\n",
       "    </tr>\n",
       "    <tr>\n",
       "      <th>3</th>\n",
       "      <td>1852</td>\n",
       "      <td>8.0</td>\n",
       "      <td>AL, 3; MS, 3; LA, 2; FL, SW2, NW1</td>\n",
       "      <td>3.0</td>\n",
       "      <td>961.0</td>\n",
       "      <td>100</td>\n",
       "      <td>\"Great Mobile\"</td>\n",
       "    </tr>\n",
       "    <tr>\n",
       "      <th>4</th>\n",
       "      <td>1852</td>\n",
       "      <td>9.0</td>\n",
       "      <td>FL, SW1</td>\n",
       "      <td>1.0</td>\n",
       "      <td>982.0</td>\n",
       "      <td>70</td>\n",
       "      <td>-----</td>\n",
       "    </tr>\n",
       "    <tr>\n",
       "      <th>5</th>\n",
       "      <td>1852</td>\n",
       "      <td>10.0</td>\n",
       "      <td>FL, NW2; I-GA, 1</td>\n",
       "      <td>2.0</td>\n",
       "      <td>965.0</td>\n",
       "      <td>90</td>\n",
       "      <td>\"Middle Florida\"</td>\n",
       "    </tr>\n",
       "  </tbody>\n",
       "</table>\n",
       "</div>"
      ],
      "text/plain": [
       "   Year  Month                             States  Category  Pressure  \\\n",
       "1  1851    6.0                             TX, C1       1.0     974.0   \n",
       "2  1851    8.0                   FL, NW3; I-GA, 1       3.0     955.0   \n",
       "3  1852    8.0  AL, 3; MS, 3; LA, 2; FL, SW2, NW1       3.0     961.0   \n",
       "4  1852    9.0                            FL, SW1       1.0     982.0   \n",
       "5  1852   10.0                   FL, NW2; I-GA, 1       2.0     965.0   \n",
       "\n",
       "  Max Wind                    Name  \n",
       "1       80                   -----  \n",
       "2      100  \"Great Middle Florida\"  \n",
       "3      100          \"Great Mobile\"  \n",
       "4       70                   -----  \n",
       "5       90        \"Middle Florida\"  "
      ]
     },
     "execution_count": 13,
     "metadata": {},
     "output_type": "execute_result"
    }
   ],
   "source": [
    "df1.head()"
   ]
  },
  {
   "cell_type": "code",
   "execution_count": 14,
   "id": "ef5520ae",
   "metadata": {},
   "outputs": [],
   "source": [
    "df1=df1[df1['Year'].notnull()]"
   ]
  },
  {
   "cell_type": "code",
   "execution_count": 15,
   "id": "5c2c5afb",
   "metadata": {},
   "outputs": [],
   "source": [
    "df1 = df1.astype({'Year': 'int'})"
   ]
  },
  {
   "cell_type": "code",
   "execution_count": 16,
   "id": "0c8743c3",
   "metadata": {},
   "outputs": [],
   "source": [
    "df1 = df1.replace('-----',np.NaN)"
   ]
  },
  {
   "cell_type": "code",
   "execution_count": 17,
   "id": "f3243f90",
   "metadata": {},
   "outputs": [],
   "source": [
    "df1 = df1.astype({'Max Wind': 'float'})"
   ]
  },
  {
   "cell_type": "code",
   "execution_count": 18,
   "id": "dbdbab16",
   "metadata": {},
   "outputs": [],
   "source": [
    "df1 = df1.astype({'Month': 'int'}) #Converting month column datatype"
   ]
  },
  {
   "cell_type": "code",
   "execution_count": 19,
   "id": "021bae95",
   "metadata": {},
   "outputs": [
    {
     "data": {
      "text/plain": [
       "1.0    124\n",
       "2.0     85\n",
       "3.0     62\n",
       "4.0     26\n",
       "5.0      4\n",
       "Name: Category, dtype: int64"
      ]
     },
     "execution_count": 19,
     "metadata": {},
     "output_type": "execute_result"
    }
   ],
   "source": [
    "df1['Category'].value_counts()"
   ]
  },
  {
   "cell_type": "code",
   "execution_count": 20,
   "id": "5107d9fd",
   "metadata": {},
   "outputs": [
    {
     "data": {
      "text/plain": [
       "array([[<AxesSubplot:title={'center':'Year'}>]], dtype=object)"
      ]
     },
     "execution_count": 20,
     "metadata": {},
     "output_type": "execute_result"
    },
    {
     "data": {
      "image/png": "[encoded data removed]",
      "text/plain": [
       "<Figure size 864x288 with 1 Axes>"
      ]
     },
     "metadata": {},
     "output_type": "display_data"
    }
   ],
   "source": [
    "plt.style.use(\"seaborn\")\n",
    "df1.hist(column='Year', bins=25,ec='black',figsize=(12,4), grid=False)"
   ]
  },
  {
   "cell_type": "markdown",
   "id": "5acf3eca",
   "metadata": {},
   "source": [
    "### From this histogram, it’s obvious that there’s been no noticeable change in storm frequency over time"
   ]
  },
  {
   "cell_type": "markdown",
   "id": "ef019ac3",
   "metadata": {},
   "source": [
    "### So we need to categorize it:"
   ]
  },
  {
   "cell_type": "code",
   "execution_count": 21,
   "id": "33154e0c",
   "metadata": {},
   "outputs": [],
   "source": [
    "df_category = df1[['Year','Category']]\n",
    "df_wind = df1[['Year','Max Wind']]\n",
    "df_pressure = df1[['Year','Pressure']]"
   ]
  },
  {
   "cell_type": "markdown",
   "id": "d804def2",
   "metadata": {},
   "source": [
    "## we can break out the data by category (1-5) to find out the severity of the storm. "
   ]
  },
  {
   "cell_type": "code",
   "execution_count": 22,
   "id": "c33d6cc9",
   "metadata": {},
   "outputs": [
    {
     "name": "stdout",
     "output_type": "stream",
     "text": [
      "['Solarize_Light2', '_classic_test_patch', 'bmh', 'classic', 'dark_background', 'fast', 'fivethirtyeight', 'ggplot', 'grayscale', 'seaborn', 'seaborn-bright', 'seaborn-colorblind', 'seaborn-dark', 'seaborn-dark-palette', 'seaborn-darkgrid', 'seaborn-deep', 'seaborn-muted', 'seaborn-notebook', 'seaborn-paper', 'seaborn-pastel', 'seaborn-poster', 'seaborn-talk', 'seaborn-ticks', 'seaborn-white', 'seaborn-whitegrid', 'tableau-colorblind10']\n"
     ]
    }
   ],
   "source": [
    " print(plt.style.available)"
   ]
  },
  {
   "cell_type": "markdown",
   "id": "d33d4748",
   "metadata": {},
   "source": [
    "## This for loop will iterate through the numbers 1-6 and will use each of those numbers in turn to search for hurricanes of that category."
   ]
  },
  {
   "cell_type": "markdown",
   "id": "1bdcacb8",
   "metadata": {},
   "source": [
    "### Rows whose category matches the number will be written to a new (temporary) dataframe called df2 which will, in turn, be used to plot a histogram. The plt.title line applies a title for the printed graph that will include the category number"
   ]
  },
  {
   "cell_type": "code",
   "execution_count": 23,
   "id": "8741c6cd",
   "metadata": {},
   "outputs": [
    {
     "data": {
      "image/png": "[encoded data removed]",
      "text/plain": [
       "<Figure size 864x288 with 1 Axes>"
      ]
     },
     "metadata": {},
     "output_type": "display_data"
    },
    {
     "data": {
      "image/png": "[encoded data removed]",
      "text/plain": [
       "<Figure size 864x288 with 1 Axes>"
      ]
     },
     "metadata": {},
     "output_type": "display_data"
    },
    {
     "data": {
      "image/png": "[encoded data removed]",
      "text/plain": [
       "<Figure size 864x288 with 1 Axes>"
      ]
     },
     "metadata": {},
     "output_type": "display_data"
    },
    {
     "data": {
      "image/png": "[encoded data removed]",
      "text/plain": [
       "<Figure size 864x288 with 1 Axes>"
      ]
     },
     "metadata": {},
     "output_type": "display_data"
    },
    {
     "data": {
      "image/png": "[encoded data removed]",
      "text/plain": [
       "<Figure size 864x288 with 1 Axes>"
      ]
     },
     "metadata": {},
     "output_type": "display_data"
    }
   ],
   "source": [
    "for x in range(1, 6):\n",
    "    cat_num = x\n",
    "    converted_num = str(cat_num) \n",
    "    dfcat = df_category['Category']==(x)\n",
    "    df2 = df_category[dfcat]\n",
    "    df2.hist(column='Year', bins=20,ec='black',grid=False,figsize=(12,4))\n",
    "    plt.title(\"Total Category \" + (converted_num) + \" Events\")"
   ]
  },
  {
   "cell_type": "code",
   "execution_count": 24,
   "id": "d3de08c6",
   "metadata": {},
   "outputs": [
    {
     "data": {
      "text/plain": [
       "1.0    124\n",
       "2.0     85\n",
       "3.0     62\n",
       "4.0     26\n",
       "5.0      4\n",
       "Name: Category, dtype: int64"
      ]
     },
     "execution_count": 24,
     "metadata": {},
     "output_type": "execute_result"
    }
   ],
   "source": [
    "df1['Category'].value_counts()"
   ]
  },
  {
   "cell_type": "code",
   "execution_count": null,
   "id": "18a1fc0e",
   "metadata": {},
   "outputs": [],
   "source": []
  },
  {
   "cell_type": "markdown",
   "id": "41247e95",
   "metadata": {},
   "source": [
    "# US hurricane time series analysis\n",
    "\n",
    "### Here I need to categorize the time occurence of storm (yearly) with the maximum speed of the storm that had occured "
   ]
  },
  {
   "cell_type": "code",
   "execution_count": 2,
   "id": "e5eaeab8",
   "metadata": {},
   "outputs": [],
   "source": [
    "df = pd.read_excel('hurricane.xlsx')"
   ]
  },
  {
   "cell_type": "code",
   "execution_count": 3,
   "id": "5dd6b0d5",
   "metadata": {},
   "outputs": [
    {
     "name": "stdout",
     "output_type": "stream",
     "text": [
      "<class 'pandas.core.frame.DataFrame'>\n",
      "RangeIndex: 396 entries, 0 to 395\n",
      "Data columns (total 8 columns):\n",
      " #   Column          Non-Null Count  Dtype  \n",
      "---  ------          --------------  -----  \n",
      " 0   Storm #         396 non-null    object \n",
      " 1   Date            380 non-null    object \n",
      " 2   Time            362 non-null    object \n",
      " 3   Lat             362 non-null    object \n",
      " 4   Lon             362 non-null    object \n",
      " 5   Max Winds       362 non-null    float64\n",
      " 6   Landfall State  362 non-null    object \n",
      " 7   Storm Name      145 non-null    object \n",
      "dtypes: float64(1), object(7)\n",
      "memory usage: 24.9+ KB\n"
     ]
    }
   ],
   "source": [
    "df.info()"
   ]
  },
  {
   "cell_type": "code",
   "execution_count": 4,
   "id": "0adbf16d",
   "metadata": {},
   "outputs": [
    {
     "data": {
      "text/html": [
       "<div>\n",
       "<style scoped>\n",
       "    .dataframe tbody tr th:only-of-type {\n",
       "        vertical-align: middle;\n",
       "    }\n",
       "\n",
       "    .dataframe tbody tr th {\n",
       "        vertical-align: top;\n",
       "    }\n",
       "\n",
       "    .dataframe thead th {\n",
       "        text-align: right;\n",
       "    }\n",
       "</style>\n",
       "<table border=\"1\" class=\"dataframe\">\n",
       "  <thead>\n",
       "    <tr style=\"text-align: right;\">\n",
       "      <th></th>\n",
       "      <th>Storm #</th>\n",
       "      <th>Date</th>\n",
       "      <th>Time</th>\n",
       "      <th>Lat</th>\n",
       "      <th>Lon</th>\n",
       "      <th>Max Winds</th>\n",
       "      <th>Landfall State</th>\n",
       "      <th>Storm Name</th>\n",
       "    </tr>\n",
       "  </thead>\n",
       "  <tbody>\n",
       "    <tr>\n",
       "      <th>188</th>\n",
       "      <td>2</td>\n",
       "      <td>1930-09-09 00:00:00</td>\n",
       "      <td>0900Z</td>\n",
       "      <td>27.5</td>\n",
       "      <td>82.7</td>\n",
       "      <td>40.0</td>\n",
       "      <td>FL</td>\n",
       "      <td>NaN</td>\n",
       "    </tr>\n",
       "    <tr>\n",
       "      <th>253</th>\n",
       "      <td>1</td>\n",
       "      <td>1953-06-06 00:00:00</td>\n",
       "      <td>1700Z</td>\n",
       "      <td>30.3</td>\n",
       "      <td>85.9</td>\n",
       "      <td>40.0</td>\n",
       "      <td>FL</td>\n",
       "      <td>Alice</td>\n",
       "    </tr>\n",
       "    <tr>\n",
       "      <th>156</th>\n",
       "      <td>2</td>\n",
       "      <td>7/15/1912</td>\n",
       "      <td>1500Z</td>\n",
       "      <td>31.3</td>\n",
       "      <td>81.3</td>\n",
       "      <td>45.0</td>\n",
       "      <td>GA</td>\n",
       "      <td>NaN</td>\n",
       "    </tr>\n",
       "    <tr>\n",
       "      <th>384</th>\n",
       "      <td>2</td>\n",
       "      <td>6/16/2015</td>\n",
       "      <td>1645Z</td>\n",
       "      <td>28.2</td>\n",
       "      <td>96.7</td>\n",
       "      <td>50.0</td>\n",
       "      <td>TX</td>\n",
       "      <td>Bill</td>\n",
       "    </tr>\n",
       "    <tr>\n",
       "      <th>120</th>\n",
       "      <td>3</td>\n",
       "      <td>8/13/1899*</td>\n",
       "      <td>1200Z</td>\n",
       "      <td>27</td>\n",
       "      <td>78.6</td>\n",
       "      <td>60.0</td>\n",
       "      <td>FL</td>\n",
       "      <td>NaN</td>\n",
       "    </tr>\n",
       "    <tr>\n",
       "      <th>101</th>\n",
       "      <td>1</td>\n",
       "      <td>8/15/1895</td>\n",
       "      <td>1900Z</td>\n",
       "      <td>29.3</td>\n",
       "      <td>89.6</td>\n",
       "      <td>50.0</td>\n",
       "      <td>LA</td>\n",
       "      <td>NaN</td>\n",
       "    </tr>\n",
       "    <tr>\n",
       "      <th>307</th>\n",
       "      <td>3</td>\n",
       "      <td>8/20/1991</td>\n",
       "      <td>0130Z</td>\n",
       "      <td>44.1</td>\n",
       "      <td>69.1</td>\n",
       "      <td>60.0</td>\n",
       "      <td>MA</td>\n",
       "      <td>Bob</td>\n",
       "    </tr>\n",
       "    <tr>\n",
       "      <th>281</th>\n",
       "      <td>6</td>\n",
       "      <td>09/14/1961</td>\n",
       "      <td>2100Z</td>\n",
       "      <td>37.1N</td>\n",
       "      <td>76.0W</td>\n",
       "      <td>45.0</td>\n",
       "      <td>VA</td>\n",
       "      <td>Unnamed</td>\n",
       "    </tr>\n",
       "    <tr>\n",
       "      <th>346</th>\n",
       "      <td>2</td>\n",
       "      <td>2004-12-08 00:00:00</td>\n",
       "      <td>1400Z</td>\n",
       "      <td>29.6</td>\n",
       "      <td>85.1</td>\n",
       "      <td>40.0</td>\n",
       "      <td>FL</td>\n",
       "      <td>Bonnie</td>\n",
       "    </tr>\n",
       "    <tr>\n",
       "      <th>171</th>\n",
       "      <td>5</td>\n",
       "      <td>9/30/1920</td>\n",
       "      <td>0900Z</td>\n",
       "      <td>28.9</td>\n",
       "      <td>82.9</td>\n",
       "      <td>55.0</td>\n",
       "      <td>FL</td>\n",
       "      <td>NaN</td>\n",
       "    </tr>\n",
       "    <tr>\n",
       "      <th>301</th>\n",
       "      <td>1</td>\n",
       "      <td>06/15/1965</td>\n",
       "      <td>1100Z</td>\n",
       "      <td>30.4N</td>\n",
       "      <td>86.9W</td>\n",
       "      <td>50.0</td>\n",
       "      <td>FL</td>\n",
       "      <td>Unnamed</td>\n",
       "    </tr>\n",
       "    <tr>\n",
       "      <th>35</th>\n",
       "      <td>1</td>\n",
       "      <td>7/11/1872</td>\n",
       "      <td>0500Z</td>\n",
       "      <td>29.1</td>\n",
       "      <td>89.1</td>\n",
       "      <td>50.0</td>\n",
       "      <td>LA</td>\n",
       "      <td>NaN</td>\n",
       "    </tr>\n",
       "    <tr>\n",
       "      <th>276</th>\n",
       "      <td>1960s</td>\n",
       "      <td>NaN</td>\n",
       "      <td>NaN</td>\n",
       "      <td>NaN</td>\n",
       "      <td>NaN</td>\n",
       "      <td>NaN</td>\n",
       "      <td>NaN</td>\n",
       "      <td>NaN</td>\n",
       "    </tr>\n",
       "    <tr>\n",
       "      <th>20</th>\n",
       "      <td>1864</td>\n",
       "      <td>None</td>\n",
       "      <td>NaN</td>\n",
       "      <td>NaN</td>\n",
       "      <td>NaN</td>\n",
       "      <td>NaN</td>\n",
       "      <td>NaN</td>\n",
       "      <td>NaN</td>\n",
       "    </tr>\n",
       "    <tr>\n",
       "      <th>26</th>\n",
       "      <td>2</td>\n",
       "      <td>8/ 2/1867*</td>\n",
       "      <td>2200Z</td>\n",
       "      <td>40.9</td>\n",
       "      <td>69.3</td>\n",
       "      <td>50.0</td>\n",
       "      <td>MA</td>\n",
       "      <td>NaN</td>\n",
       "    </tr>\n",
       "    <tr>\n",
       "      <th>231</th>\n",
       "      <td>2</td>\n",
       "      <td>7/21/1945*</td>\n",
       "      <td>1200Z</td>\n",
       "      <td>27.8</td>\n",
       "      <td>95.4</td>\n",
       "      <td>35.0</td>\n",
       "      <td>TX</td>\n",
       "      <td>NaN</td>\n",
       "    </tr>\n",
       "    <tr>\n",
       "      <th>282</th>\n",
       "      <td>6</td>\n",
       "      <td>09/15/1961</td>\n",
       "      <td>0600Z</td>\n",
       "      <td>40.7N</td>\n",
       "      <td>73.2W</td>\n",
       "      <td>55.0</td>\n",
       "      <td>NY</td>\n",
       "      <td>Unnamed</td>\n",
       "    </tr>\n",
       "    <tr>\n",
       "      <th>240</th>\n",
       "      <td>7</td>\n",
       "      <td>1947-07-10 00:00:00</td>\n",
       "      <td>0400Z</td>\n",
       "      <td>30.8</td>\n",
       "      <td>81.5</td>\n",
       "      <td>50.0</td>\n",
       "      <td>GA</td>\n",
       "      <td>NaN</td>\n",
       "    </tr>\n",
       "    <tr>\n",
       "      <th>258</th>\n",
       "      <td>5</td>\n",
       "      <td>7/29/1954</td>\n",
       "      <td>1000Z</td>\n",
       "      <td>29.7</td>\n",
       "      <td>92.8</td>\n",
       "      <td>50.0</td>\n",
       "      <td>LA</td>\n",
       "      <td>Barbara</td>\n",
       "    </tr>\n",
       "    <tr>\n",
       "      <th>212</th>\n",
       "      <td>7</td>\n",
       "      <td>9/20/1937</td>\n",
       "      <td>1600Z</td>\n",
       "      <td>29.7</td>\n",
       "      <td>85.4</td>\n",
       "      <td>35.0</td>\n",
       "      <td>FL</td>\n",
       "      <td>NaN</td>\n",
       "    </tr>\n",
       "  </tbody>\n",
       "</table>\n",
       "</div>"
      ],
      "text/plain": [
       "    Storm #                 Date   Time    Lat    Lon  Max Winds  \\\n",
       "188       2  1930-09-09 00:00:00  0900Z   27.5   82.7       40.0   \n",
       "253       1  1953-06-06 00:00:00  1700Z   30.3   85.9       40.0   \n",
       "156       2            7/15/1912  1500Z   31.3   81.3       45.0   \n",
       "384       2            6/16/2015  1645Z   28.2   96.7       50.0   \n",
       "120       3           8/13/1899*  1200Z     27   78.6       60.0   \n",
       "101       1            8/15/1895  1900Z   29.3   89.6       50.0   \n",
       "307       3            8/20/1991  0130Z   44.1   69.1       60.0   \n",
       "281       6           09/14/1961  2100Z  37.1N  76.0W       45.0   \n",
       "346       2  2004-12-08 00:00:00  1400Z   29.6   85.1       40.0   \n",
       "171       5            9/30/1920  0900Z   28.9   82.9       55.0   \n",
       "301       1           06/15/1965  1100Z  30.4N  86.9W       50.0   \n",
       "35        1            7/11/1872  0500Z   29.1   89.1       50.0   \n",
       "276   1960s                  NaN    NaN    NaN    NaN        NaN   \n",
       "20     1864                 None    NaN    NaN    NaN        NaN   \n",
       "26        2           8/ 2/1867*  2200Z   40.9   69.3       50.0   \n",
       "231       2           7/21/1945*  1200Z   27.8   95.4       35.0   \n",
       "282       6           09/15/1961  0600Z  40.7N  73.2W       55.0   \n",
       "240       7  1947-07-10 00:00:00  0400Z   30.8   81.5       50.0   \n",
       "258       5            7/29/1954  1000Z   29.7   92.8       50.0   \n",
       "212       7            9/20/1937  1600Z   29.7   85.4       35.0   \n",
       "\n",
       "    Landfall State Storm Name  \n",
       "188             FL        NaN  \n",
       "253             FL      Alice  \n",
       "156             GA        NaN  \n",
       "384             TX       Bill  \n",
       "120             FL        NaN  \n",
       "101             LA        NaN  \n",
       "307             MA        Bob  \n",
       "281             VA    Unnamed  \n",
       "346             FL     Bonnie  \n",
       "171             FL        NaN  \n",
       "301             FL    Unnamed  \n",
       "35              LA        NaN  \n",
       "276            NaN        NaN  \n",
       "20             NaN        NaN  \n",
       "26              MA        NaN  \n",
       "231             TX        NaN  \n",
       "282             NY    Unnamed  \n",
       "240             GA        NaN  \n",
       "258             LA    Barbara  \n",
       "212             FL        NaN  "
      ]
     },
     "execution_count": 4,
     "metadata": {},
     "output_type": "execute_result"
    }
   ],
   "source": [
    "df.sample(20)"
   ]
  },
  {
   "cell_type": "markdown",
   "id": "e40a9d27",
   "metadata": {},
   "source": [
    "# Data Cleaning\n",
    "##### As the data contains irregularities it needs to be cleaned "
   ]
  },
  {
   "cell_type": "markdown",
   "id": "b70aa582",
   "metadata": {},
   "source": [
    "##### finding and cleaning null or missing values, impute the values if removing them affect analysis"
   ]
  },
  {
   "cell_type": "code",
   "execution_count": 5,
   "id": "1622c1bb",
   "metadata": {},
   "outputs": [],
   "source": [
    "df=df[(df.Date.str.contains(\"None\")) == False]"
   ]
  },
  {
   "cell_type": "code",
   "execution_count": 6,
   "id": "d2a9b403",
   "metadata": {},
   "outputs": [
    {
     "data": {
      "text/html": [
       "<div>\n",
       "<style scoped>\n",
       "    .dataframe tbody tr th:only-of-type {\n",
       "        vertical-align: middle;\n",
       "    }\n",
       "\n",
       "    .dataframe tbody tr th {\n",
       "        vertical-align: top;\n",
       "    }\n",
       "\n",
       "    .dataframe thead th {\n",
       "        text-align: right;\n",
       "    }\n",
       "</style>\n",
       "<table border=\"1\" class=\"dataframe\">\n",
       "  <thead>\n",
       "    <tr style=\"text-align: right;\">\n",
       "      <th></th>\n",
       "      <th>Storm #</th>\n",
       "      <th>Date</th>\n",
       "      <th>Time</th>\n",
       "      <th>Lat</th>\n",
       "      <th>Lon</th>\n",
       "      <th>Max Winds</th>\n",
       "      <th>Landfall State</th>\n",
       "      <th>Storm Name</th>\n",
       "    </tr>\n",
       "  </thead>\n",
       "  <tbody>\n",
       "    <tr>\n",
       "      <th>42</th>\n",
       "      <td>4</td>\n",
       "      <td>9/ 4/1874$#</td>\n",
       "      <td>1200Z</td>\n",
       "      <td>25</td>\n",
       "      <td>97.6</td>\n",
       "      <td>40.0</td>\n",
       "      <td>TX</td>\n",
       "      <td>NaN</td>\n",
       "    </tr>\n",
       "    <tr>\n",
       "      <th>153</th>\n",
       "      <td>2</td>\n",
       "      <td>8/21/1910#</td>\n",
       "      <td>0000Z</td>\n",
       "      <td>25.7</td>\n",
       "      <td>97.2</td>\n",
       "      <td>40.0</td>\n",
       "      <td>TX</td>\n",
       "      <td>NaN</td>\n",
       "    </tr>\n",
       "    <tr>\n",
       "      <th>178</th>\n",
       "      <td>3</td>\n",
       "      <td>9/7/1925#</td>\n",
       "      <td>0000Z</td>\n",
       "      <td>25.1</td>\n",
       "      <td>97.3</td>\n",
       "      <td>35.0</td>\n",
       "      <td>TX</td>\n",
       "      <td>NaN</td>\n",
       "    </tr>\n",
       "    <tr>\n",
       "      <th>207</th>\n",
       "      <td>14</td>\n",
       "      <td>9/13/1936#</td>\n",
       "      <td>1600Z</td>\n",
       "      <td>25.9</td>\n",
       "      <td>97.1</td>\n",
       "      <td>45.0</td>\n",
       "      <td>TX</td>\n",
       "      <td>NaN</td>\n",
       "    </tr>\n",
       "    <tr>\n",
       "      <th>236</th>\n",
       "      <td>1</td>\n",
       "      <td>8/2/1947#</td>\n",
       "      <td>0000Z</td>\n",
       "      <td>25.6</td>\n",
       "      <td>97.3</td>\n",
       "      <td>45.0</td>\n",
       "      <td>TX</td>\n",
       "      <td>NaN</td>\n",
       "    </tr>\n",
       "    <tr>\n",
       "      <th>257</th>\n",
       "      <td>3</td>\n",
       "      <td>6/25/1954#</td>\n",
       "      <td>1400Z</td>\n",
       "      <td>25</td>\n",
       "      <td>97.6</td>\n",
       "      <td>60.0</td>\n",
       "      <td>TX</td>\n",
       "      <td>Alice</td>\n",
       "    </tr>\n",
       "    <tr>\n",
       "      <th>344</th>\n",
       "      <td>8</td>\n",
       "      <td>8/16/2003#</td>\n",
       "      <td>0600Z</td>\n",
       "      <td>25.6</td>\n",
       "      <td>96.2</td>\n",
       "      <td>35.0</td>\n",
       "      <td>TX</td>\n",
       "      <td>Erika</td>\n",
       "    </tr>\n",
       "    <tr>\n",
       "      <th>352</th>\n",
       "      <td>5</td>\n",
       "      <td>7/20/2005#</td>\n",
       "      <td>1200Z</td>\n",
       "      <td>24.8</td>\n",
       "      <td>97.6</td>\n",
       "      <td>45.0</td>\n",
       "      <td>TX</td>\n",
       "      <td>Emily</td>\n",
       "    </tr>\n",
       "    <tr>\n",
       "      <th>372</th>\n",
       "      <td>1</td>\n",
       "      <td>7/1/2010#</td>\n",
       "      <td>0000Z</td>\n",
       "      <td>24.3</td>\n",
       "      <td>97.3</td>\n",
       "      <td>40.0</td>\n",
       "      <td>TX</td>\n",
       "      <td>Alex</td>\n",
       "    </tr>\n",
       "    <tr>\n",
       "      <th>375</th>\n",
       "      <td>10</td>\n",
       "      <td>9/7/2010#</td>\n",
       "      <td>0600Z</td>\n",
       "      <td>26.2</td>\n",
       "      <td>97.7</td>\n",
       "      <td>50.0</td>\n",
       "      <td>TX</td>\n",
       "      <td>Hermine</td>\n",
       "    </tr>\n",
       "  </tbody>\n",
       "</table>\n",
       "</div>"
      ],
      "text/plain": [
       "    Storm #         Date   Time   Lat   Lon  Max Winds Landfall State  \\\n",
       "42        4  9/ 4/1874$#  1200Z    25  97.6       40.0             TX   \n",
       "153       2   8/21/1910#  0000Z  25.7  97.2       40.0             TX   \n",
       "178       3    9/7/1925#  0000Z  25.1  97.3       35.0             TX   \n",
       "207      14   9/13/1936#  1600Z  25.9  97.1       45.0             TX   \n",
       "236       1    8/2/1947#  0000Z  25.6  97.3       45.0             TX   \n",
       "257       3   6/25/1954#  1400Z    25  97.6       60.0             TX   \n",
       "344       8   8/16/2003#  0600Z  25.6  96.2       35.0             TX   \n",
       "352       5   7/20/2005#  1200Z  24.8  97.6       45.0             TX   \n",
       "372       1    7/1/2010#  0000Z  24.3  97.3       40.0             TX   \n",
       "375      10    9/7/2010#  0600Z  26.2  97.7       50.0             TX   \n",
       "\n",
       "    Storm Name  \n",
       "42         NaN  \n",
       "153        NaN  \n",
       "178        NaN  \n",
       "207        NaN  \n",
       "236        NaN  \n",
       "257      Alice  \n",
       "344      Erika  \n",
       "352      Emily  \n",
       "372       Alex  \n",
       "375    Hermine  "
      ]
     },
     "execution_count": 6,
     "metadata": {},
     "output_type": "execute_result"
    }
   ],
   "source": [
    "df[df['Date'].str.contains(\"#\")]"
   ]
  },
  {
   "cell_type": "code",
   "execution_count": 7,
   "id": "0bb5bc4f",
   "metadata": {},
   "outputs": [
    {
     "data": {
      "text/html": [
       "<div>\n",
       "<style scoped>\n",
       "    .dataframe tbody tr th:only-of-type {\n",
       "        vertical-align: middle;\n",
       "    }\n",
       "\n",
       "    .dataframe tbody tr th {\n",
       "        vertical-align: top;\n",
       "    }\n",
       "\n",
       "    .dataframe thead th {\n",
       "        text-align: right;\n",
       "    }\n",
       "</style>\n",
       "<table border=\"1\" class=\"dataframe\">\n",
       "  <thead>\n",
       "    <tr style=\"text-align: right;\">\n",
       "      <th></th>\n",
       "      <th>Storm #</th>\n",
       "      <th>Date</th>\n",
       "      <th>Time</th>\n",
       "      <th>Lat</th>\n",
       "      <th>Lon</th>\n",
       "      <th>Max Winds</th>\n",
       "      <th>Landfall State</th>\n",
       "      <th>Storm Name</th>\n",
       "    </tr>\n",
       "  </thead>\n",
       "  <tbody>\n",
       "    <tr>\n",
       "      <th>81</th>\n",
       "      <td>6</td>\n",
       "      <td>9/26/1888&amp;</td>\n",
       "      <td>1300Z</td>\n",
       "      <td>41.6</td>\n",
       "      <td>69.9</td>\n",
       "      <td>55.0</td>\n",
       "      <td>MA</td>\n",
       "      <td>NaN</td>\n",
       "    </tr>\n",
       "    <tr>\n",
       "      <th>107</th>\n",
       "      <td>2</td>\n",
       "      <td>9/10/1897$&amp;</td>\n",
       "      <td>1800Z</td>\n",
       "      <td>24.4</td>\n",
       "      <td>81.9</td>\n",
       "      <td>50.0</td>\n",
       "      <td>FL</td>\n",
       "      <td>NaN</td>\n",
       "    </tr>\n",
       "    <tr>\n",
       "      <th>109</th>\n",
       "      <td>3</td>\n",
       "      <td>9/23/1897&amp;</td>\n",
       "      <td>1000Z</td>\n",
       "      <td>35.2</td>\n",
       "      <td>75.7</td>\n",
       "      <td>50.0</td>\n",
       "      <td>NC</td>\n",
       "      <td>NaN</td>\n",
       "    </tr>\n",
       "    <tr>\n",
       "      <th>145</th>\n",
       "      <td>2</td>\n",
       "      <td>5/29/1908&amp;</td>\n",
       "      <td>2100Z</td>\n",
       "      <td>35.2</td>\n",
       "      <td>75.6</td>\n",
       "      <td>55.0</td>\n",
       "      <td>NC</td>\n",
       "      <td>NaN</td>\n",
       "    </tr>\n",
       "    <tr>\n",
       "      <th>230</th>\n",
       "      <td>1</td>\n",
       "      <td>6/26/1945&amp;</td>\n",
       "      <td>0100Z</td>\n",
       "      <td>34.7</td>\n",
       "      <td>76.6</td>\n",
       "      <td>60.0</td>\n",
       "      <td>NC</td>\n",
       "      <td>NaN</td>\n",
       "    </tr>\n",
       "    <tr>\n",
       "      <th>294</th>\n",
       "      <td>10</td>\n",
       "      <td>06/03/1963&amp;</td>\n",
       "      <td>0800Z</td>\n",
       "      <td>35.2N</td>\n",
       "      <td>75.8W</td>\n",
       "      <td>40.0</td>\n",
       "      <td>NC</td>\n",
       "      <td>Unnamed</td>\n",
       "    </tr>\n",
       "  </tbody>\n",
       "</table>\n",
       "</div>"
      ],
      "text/plain": [
       "    Storm #         Date   Time    Lat    Lon  Max Winds Landfall State  \\\n",
       "81        6   9/26/1888&  1300Z   41.6   69.9       55.0             MA   \n",
       "107       2  9/10/1897$&  1800Z   24.4   81.9       50.0             FL   \n",
       "109       3   9/23/1897&  1000Z   35.2   75.7       50.0             NC   \n",
       "145       2   5/29/1908&  2100Z   35.2   75.6       55.0             NC   \n",
       "230       1   6/26/1945&  0100Z   34.7   76.6       60.0             NC   \n",
       "294      10  06/03/1963&  0800Z  35.2N  75.8W       40.0             NC   \n",
       "\n",
       "    Storm Name  \n",
       "81         NaN  \n",
       "107        NaN  \n",
       "109        NaN  \n",
       "145        NaN  \n",
       "230        NaN  \n",
       "294    Unnamed  "
      ]
     },
     "execution_count": 7,
     "metadata": {},
     "output_type": "execute_result"
    }
   ],
   "source": [
    "df[df['Date'].str.contains(\"&\")]"
   ]
  },
  {
   "cell_type": "markdown",
   "id": "9ba37646",
   "metadata": {},
   "source": [
    "### Replacing the special characters with space to get the  date column in correct format "
   ]
  },
  {
   "cell_type": "code",
   "execution_count": 8,
   "id": "bec7d8c9",
   "metadata": {},
   "outputs": [
    {
     "name": "stderr",
     "output_type": "stream",
     "text": [
      "<ipython-input-8-829342916f6d>:1: FutureWarning: The default value of regex will change from True to False in a future version. In addition, single character regular expressions will*not* be treated as literal strings when regex=True.\n",
      "  df['Date'] = df.Date.str.replace('$', '')\n",
      "<ipython-input-8-829342916f6d>:2: FutureWarning: The default value of regex will change from True to False in a future version. In addition, single character regular expressions will*not* be treated as literal strings when regex=True.\n",
      "  df['Date'] = df.Date.str.replace('*', '')\n"
     ]
    }
   ],
   "source": [
    "df['Date'] = df.Date.str.replace('$', '')\n",
    "df['Date'] = df.Date.str.replace('*', '')\n",
    "df['Date'] = df.Date.str.replace('#', '')\n",
    "df['Date'] = df.Date.str.replace('%', '')\n",
    "df['Date'] = df.Date.str.replace('&', '')"
   ]
  },
  {
   "cell_type": "code",
   "execution_count": 35,
   "id": "75df2d8b",
   "metadata": {},
   "outputs": [],
   "source": [
    "df.columns =['Storm', 'Date', 'Time', 'Lat', 'Lon', \n",
    "             'MaxWinds', 'LandfallState', 'StormName'] "
   ]
  },
  {
   "cell_type": "code",
   "execution_count": 36,
   "id": "44c8c533",
   "metadata": {},
   "outputs": [
    {
     "data": {
      "text/html": [
       "<div>\n",
       "<style scoped>\n",
       "    .dataframe tbody tr th:only-of-type {\n",
       "        vertical-align: middle;\n",
       "    }\n",
       "\n",
       "    .dataframe tbody tr th {\n",
       "        vertical-align: top;\n",
       "    }\n",
       "\n",
       "    .dataframe thead th {\n",
       "        text-align: right;\n",
       "    }\n",
       "</style>\n",
       "<table border=\"1\" class=\"dataframe\">\n",
       "  <thead>\n",
       "    <tr style=\"text-align: right;\">\n",
       "      <th></th>\n",
       "      <th>Storm</th>\n",
       "      <th>Date</th>\n",
       "      <th>Time</th>\n",
       "      <th>Lat</th>\n",
       "      <th>Lon</th>\n",
       "      <th>MaxWinds</th>\n",
       "      <th>LandfallState</th>\n",
       "      <th>StormName</th>\n",
       "    </tr>\n",
       "  </thead>\n",
       "  <tbody>\n",
       "    <tr>\n",
       "      <th>56</th>\n",
       "      <td>6</td>\n",
       "      <td>1880-09-08</td>\n",
       "      <td>1600Z</td>\n",
       "      <td>29.8</td>\n",
       "      <td>83.6</td>\n",
       "      <td>50.0</td>\n",
       "      <td>FL</td>\n",
       "      <td>NaN</td>\n",
       "    </tr>\n",
       "    <tr>\n",
       "      <th>145</th>\n",
       "      <td>2</td>\n",
       "      <td>1908-05-29</td>\n",
       "      <td>2100Z</td>\n",
       "      <td>35.2</td>\n",
       "      <td>75.6</td>\n",
       "      <td>55.0</td>\n",
       "      <td>NC</td>\n",
       "      <td>NaN</td>\n",
       "    </tr>\n",
       "    <tr>\n",
       "      <th>70</th>\n",
       "      <td>6</td>\n",
       "      <td>1885-09-26</td>\n",
       "      <td>0400Z</td>\n",
       "      <td>29.6</td>\n",
       "      <td>89</td>\n",
       "      <td>60.0</td>\n",
       "      <td>LA</td>\n",
       "      <td>NaN</td>\n",
       "    </tr>\n",
       "    <tr>\n",
       "      <th>113</th>\n",
       "      <td>6</td>\n",
       "      <td>1897-10-25</td>\n",
       "      <td>2300Z</td>\n",
       "      <td>36.1</td>\n",
       "      <td>75.8</td>\n",
       "      <td>55.0</td>\n",
       "      <td>NC</td>\n",
       "      <td>NaN</td>\n",
       "    </tr>\n",
       "    <tr>\n",
       "      <th>160</th>\n",
       "      <td>1</td>\n",
       "      <td>1916-05-14</td>\n",
       "      <td>0600Z</td>\n",
       "      <td>25.1</td>\n",
       "      <td>81</td>\n",
       "      <td>35.0</td>\n",
       "      <td>FL</td>\n",
       "      <td>NaN</td>\n",
       "    </tr>\n",
       "    <tr>\n",
       "      <th>176</th>\n",
       "      <td>7</td>\n",
       "      <td>1923-10-19</td>\n",
       "      <td>0900Z</td>\n",
       "      <td>41.3</td>\n",
       "      <td>70.6</td>\n",
       "      <td>50.0</td>\n",
       "      <td>MA</td>\n",
       "      <td>NaN</td>\n",
       "    </tr>\n",
       "    <tr>\n",
       "      <th>170</th>\n",
       "      <td>3</td>\n",
       "      <td>1920-09-23</td>\n",
       "      <td>0600Z</td>\n",
       "      <td>33.7</td>\n",
       "      <td>78.2</td>\n",
       "      <td>55.0</td>\n",
       "      <td>NC</td>\n",
       "      <td>NaN</td>\n",
       "    </tr>\n",
       "    <tr>\n",
       "      <th>60</th>\n",
       "      <td>2</td>\n",
       "      <td>1881-08-13</td>\n",
       "      <td>2100Z</td>\n",
       "      <td>28</td>\n",
       "      <td>96.9</td>\n",
       "      <td>40.0</td>\n",
       "      <td>TX</td>\n",
       "      <td>NaN</td>\n",
       "    </tr>\n",
       "    <tr>\n",
       "      <th>247</th>\n",
       "      <td>4</td>\n",
       "      <td>1950-09-11</td>\n",
       "      <td>0600Z</td>\n",
       "      <td>34.9</td>\n",
       "      <td>72.2</td>\n",
       "      <td>40.0</td>\n",
       "      <td>NC</td>\n",
       "      <td>Dog</td>\n",
       "    </tr>\n",
       "    <tr>\n",
       "      <th>279</th>\n",
       "      <td>3</td>\n",
       "      <td>1960-07-29</td>\n",
       "      <td>2100Z</td>\n",
       "      <td>33.9</td>\n",
       "      <td>78.2</td>\n",
       "      <td>60.0</td>\n",
       "      <td>NC</td>\n",
       "      <td>Brenda</td>\n",
       "    </tr>\n",
       "    <tr>\n",
       "      <th>31</th>\n",
       "      <td>1</td>\n",
       "      <td>1871-06-04</td>\n",
       "      <td>0700Z</td>\n",
       "      <td>29.1</td>\n",
       "      <td>95.1</td>\n",
       "      <td>50.0</td>\n",
       "      <td>TX</td>\n",
       "      <td>NaN</td>\n",
       "    </tr>\n",
       "    <tr>\n",
       "      <th>72</th>\n",
       "      <td>8</td>\n",
       "      <td>1885-10-11</td>\n",
       "      <td>2200Z</td>\n",
       "      <td>29.4</td>\n",
       "      <td>83.2</td>\n",
       "      <td>60.0</td>\n",
       "      <td>FL</td>\n",
       "      <td>NaN</td>\n",
       "    </tr>\n",
       "  </tbody>\n",
       "</table>\n",
       "</div>"
      ],
      "text/plain": [
       "    Storm       Date   Time   Lat   Lon  MaxWinds LandfallState StormName\n",
       "56      6 1880-09-08  1600Z  29.8  83.6      50.0            FL       NaN\n",
       "145     2 1908-05-29  2100Z  35.2  75.6      55.0            NC       NaN\n",
       "70      6 1885-09-26  0400Z  29.6    89      60.0            LA       NaN\n",
       "113     6 1897-10-25  2300Z  36.1  75.8      55.0            NC       NaN\n",
       "160     1 1916-05-14  0600Z  25.1    81      35.0            FL       NaN\n",
       "176     7 1923-10-19  0900Z  41.3  70.6      50.0            MA       NaN\n",
       "170     3 1920-09-23  0600Z  33.7  78.2      55.0            NC       NaN\n",
       "60      2 1881-08-13  2100Z    28  96.9      40.0            TX       NaN\n",
       "247     4 1950-09-11  0600Z  34.9  72.2      40.0            NC       Dog\n",
       "279     3 1960-07-29  2100Z  33.9  78.2      60.0            NC    Brenda\n",
       "31      1 1871-06-04  0700Z  29.1  95.1      50.0            TX       NaN\n",
       "72      8 1885-10-11  2200Z  29.4  83.2      60.0            FL       NaN"
      ]
     },
     "execution_count": 36,
     "metadata": {},
     "output_type": "execute_result"
    }
   ],
   "source": [
    "df.sample(12)"
   ]
  },
  {
   "cell_type": "code",
   "execution_count": 11,
   "id": "804906cc",
   "metadata": {},
   "outputs": [
    {
     "data": {
      "text/plain": [
       "Storm#            object\n",
       "Date              object\n",
       "Time              object\n",
       "Lat               object\n",
       "Lon               object\n",
       "MaxWinds         float64\n",
       "LandfallState     object\n",
       "StormName         object\n",
       "dtype: object"
      ]
     },
     "execution_count": 11,
     "metadata": {},
     "output_type": "execute_result"
    }
   ],
   "source": [
    "df.dtypes"
   ]
  },
  {
   "cell_type": "markdown",
   "id": "27d0ade5",
   "metadata": {},
   "source": [
    "## Converting the date column into datetime type using to_datetime "
   ]
  },
  {
   "cell_type": "code",
   "execution_count": 12,
   "id": "0f303751",
   "metadata": {},
   "outputs": [],
   "source": [
    "df.Date = pd.to_datetime(df.Date)"
   ]
  },
  {
   "cell_type": "code",
   "execution_count": 79,
   "id": "7f66e13c",
   "metadata": {},
   "outputs": [],
   "source": [
    "df3 = df[['Date','MaxWinds']]"
   ]
  },
  {
   "cell_type": "markdown",
   "id": "7c8e978c",
   "metadata": {},
   "source": [
    "# Plotting the distribution of occurence of storm over the years"
   ]
  },
  {
   "cell_type": "code",
   "execution_count": 80,
   "id": "f00437f6",
   "metadata": {},
   "outputs": [
    {
     "data": {
      "image/png": "[encoded data removed]",
      "text/plain": [
       "<Figure size 720x504 with 1 Axes>"
      ]
     },
     "metadata": {},
     "output_type": "display_data"
    }
   ],
   "source": [
    "df3['Date'].hist(ec='black',figsize=(10,7),grid=False)\n",
    "plt.xlabel('YEARS',size=15)\n",
    "plt.ylabel('Wind speed in KNOTS',size=15)\n",
    "plt.title('Distribution of occurence of Storm Over the years',size=20)\n",
    "plt.tight_layout()"
   ]
  },
  {
   "cell_type": "code",
   "execution_count": 74,
   "id": "7c148b49",
   "metadata": {},
   "outputs": [
    {
     "data": {
      "text/html": [
       "<div>\n",
       "<style scoped>\n",
       "    .dataframe tbody tr th:only-of-type {\n",
       "        vertical-align: middle;\n",
       "    }\n",
       "\n",
       "    .dataframe tbody tr th {\n",
       "        vertical-align: top;\n",
       "    }\n",
       "\n",
       "    .dataframe thead th {\n",
       "        text-align: right;\n",
       "    }\n",
       "</style>\n",
       "<table border=\"1\" class=\"dataframe\">\n",
       "  <thead>\n",
       "    <tr style=\"text-align: right;\">\n",
       "      <th></th>\n",
       "      <th>Date</th>\n",
       "      <th>MaxWinds</th>\n",
       "    </tr>\n",
       "  </thead>\n",
       "  <tbody>\n",
       "    <tr>\n",
       "      <th>1</th>\n",
       "      <td>1851-10-19</td>\n",
       "      <td>50.0</td>\n",
       "    </tr>\n",
       "    <tr>\n",
       "      <th>6</th>\n",
       "      <td>1856-08-19</td>\n",
       "      <td>50.0</td>\n",
       "    </tr>\n",
       "    <tr>\n",
       "      <th>7</th>\n",
       "      <td>1857-09-30</td>\n",
       "      <td>50.0</td>\n",
       "    </tr>\n",
       "    <tr>\n",
       "      <th>8</th>\n",
       "      <td>1858-09-14</td>\n",
       "      <td>60.0</td>\n",
       "    </tr>\n",
       "    <tr>\n",
       "      <th>9</th>\n",
       "      <td>1858-09-16</td>\n",
       "      <td>50.0</td>\n",
       "    </tr>\n",
       "    <tr>\n",
       "      <th>...</th>\n",
       "      <td>...</td>\n",
       "      <td>...</td>\n",
       "    </tr>\n",
       "    <tr>\n",
       "      <th>389</th>\n",
       "      <td>2017-08-30</td>\n",
       "      <td>40.0</td>\n",
       "    </tr>\n",
       "    <tr>\n",
       "      <th>390</th>\n",
       "      <td>2017-09-22</td>\n",
       "      <td>40.0</td>\n",
       "    </tr>\n",
       "    <tr>\n",
       "      <th>391</th>\n",
       "      <td>2017-09-27</td>\n",
       "      <td>45.0</td>\n",
       "    </tr>\n",
       "    <tr>\n",
       "      <th>392</th>\n",
       "      <td>2018-05-28</td>\n",
       "      <td>40.0</td>\n",
       "    </tr>\n",
       "    <tr>\n",
       "      <th>395</th>\n",
       "      <td>2019-09-17</td>\n",
       "      <td>40.0</td>\n",
       "    </tr>\n",
       "  </tbody>\n",
       "</table>\n",
       "<p>288 rows × 2 columns</p>\n",
       "</div>"
      ],
      "text/plain": [
       "          Date  MaxWinds\n",
       "1   1851-10-19      50.0\n",
       "6   1856-08-19      50.0\n",
       "7   1857-09-30      50.0\n",
       "8   1858-09-14      60.0\n",
       "9   1858-09-16      50.0\n",
       "..         ...       ...\n",
       "389 2017-08-30      40.0\n",
       "390 2017-09-22      40.0\n",
       "391 2017-09-27      45.0\n",
       "392 2018-05-28      40.0\n",
       "395 2019-09-17      40.0\n",
       "\n",
       "[288 rows x 2 columns]"
      ]
     },
     "execution_count": 74,
     "metadata": {},
     "output_type": "execute_result"
    }
   ],
   "source": [
    "df1"
   ]
  },
  {
   "cell_type": "markdown",
   "id": "463e3a80",
   "metadata": {},
   "source": [
    "### Creating dataframe for each wind speed"
   ]
  },
  {
   "cell_type": "code",
   "execution_count": 22,
   "id": "29c0a610",
   "metadata": {},
   "outputs": [],
   "source": [
    "df_30 = df1[df1['MaxWinds'].between(30, 39)]\n",
    "df_40 = df1[df1['MaxWinds'].between(40, 49)]\n",
    "df_50 = df1[df1['MaxWinds'].between(50, 59)]\n",
    "df_60 = df1[df1['MaxWinds'].between(60, 79)]"
   ]
  },
  {
   "cell_type": "markdown",
   "id": "5f3b7241",
   "metadata": {},
   "source": [
    "### Calculating Number of storms at respective wind speed"
   ]
  },
  {
   "cell_type": "code",
   "execution_count": 23,
   "id": "0d27ce96",
   "metadata": {},
   "outputs": [
    {
     "name": "stdout",
     "output_type": "stream",
     "text": [
      "The number of storms between 30 and 39:  38\n",
      "The number of storms between 40 and 49:  86\n",
      "The number of storms between 50 and 59:  115\n",
      "The number of storms between 60 and 79:  49\n"
     ]
    }
   ],
   "source": [
    "st1 = len(df_30.index)\n",
    "print('The number of storms between 30 and 39: ', st1)\n",
    "st2 = len(df_40.index)\n",
    "print('The number of storms between 40 and 49: ', st2)\n",
    "st3 = len(df_50.index)\n",
    "print('The number of storms between 50 and 59: ', st3)\n",
    "st4 = len(df_60.index)\n",
    "print('The number of storms between 60 and 79: ', st4)"
   ]
  },
  {
   "cell_type": "code",
   "execution_count": 118,
   "id": "27a5779a",
   "metadata": {},
   "outputs": [
    {
     "data": {
      "image/png": "[encoded data removed]",
      "text/plain": [
       "<Figure size 800x560 with 1 Axes>"
      ]
     },
     "metadata": {},
     "output_type": "display_data"
    }
   ],
   "source": [
    "fig = plt.figure()\n",
    "ax = plt.subplot(111)\n",
    "df_30['MaxWinds'].plot(ax=ax, label='df_30',figsize=(10,7))\n",
    "df_40['MaxWinds'].plot(ax=ax, label='df_40',figsize=(10,7))\n",
    "df_50['MaxWinds'].plot(ax=ax, label='df_50',figsize=(10,7))\n",
    "df_60['MaxWinds'].plot(ax=ax, label='df_60',figsize=(10,7))\n",
    "ax.set_ylabel('Wind Speed In Knots')\n",
    "ax.set_xlabel('Time Between 1851 and 2019')\n",
    "plt.title('Tropical Storms by Maximum Wind Speeds (knots)')\n",
    "ax.legend()\n",
    "plt.tight_layout()"
   ]
  },
  {
   "cell_type": "markdown",
   "id": "7faa6323",
   "metadata": {},
   "source": [
    "# Plotting seprate histogram for every wind speed for further understanding."
   ]
  },
  {
   "cell_type": "code",
   "execution_count": 120,
   "id": "bd08ac5c",
   "metadata": {},
   "outputs": [
    {
     "data": {
      "image/png": "[encoded data removed]",
      "text/plain": [
       "<Figure size 800x560 with 1 Axes>"
      ]
     },
     "metadata": {},
     "output_type": "display_data"
    }
   ],
   "source": [
    "df_30['Date'].hist(bins=20,ec='black',figsize=(10,7),grid=False)\n",
    "plt.xlabel('YEARS',size=15)\n",
    "plt.ylabel('Times Occured',size=15)\n",
    "plt.style.use('seaborn')\n",
    "plt.title('Occurence of Storm with Wind speed between: 30-39 KNOTS',size=20)\n",
    "plt.tight_layout()"
   ]
  },
  {
   "cell_type": "code",
   "execution_count": 108,
   "id": "1bb8dd9f",
   "metadata": {},
   "outputs": [
    {
     "data": {
      "text/plain": [
       "<AxesSubplot:xlabel='MaxWinds', ylabel='count'>"
      ]
     },
     "execution_count": 108,
     "metadata": {},
     "output_type": "execute_result"
    },
    {
     "data": {
      "image/png": "[encoded data removed]",
      "text/plain": [
       "<Figure size 640x440 with 1 Axes>"
      ]
     },
     "metadata": {},
     "output_type": "display_data"
    }
   ],
   "source": [
    "sns.countplot(x='MaxWinds', data=df_30)"
   ]
  },
  {
   "cell_type": "code",
   "execution_count": 109,
   "id": "42f25444",
   "metadata": {},
   "outputs": [
    {
     "data": {
      "image/png": "[encoded data removed]",
      "text/plain": [
       "<Figure size 800x560 with 1 Axes>"
      ]
     },
     "metadata": {},
     "output_type": "display_data"
    }
   ],
   "source": [
    "df_40['Date'].hist(bins=20,ec='black',figsize=(10,7),grid=False)\n",
    "plt.xlabel('YEARS',size=15)\n",
    "plt.ylabel('Times Occured',size=15)\n",
    "plt.title('Occurence of Storm with Wind speed between: 40-49 KNOTS',size=20)\n",
    "plt.tight_layout()"
   ]
  },
  {
   "cell_type": "code",
   "execution_count": 110,
   "id": "66236a2a",
   "metadata": {},
   "outputs": [
    {
     "data": {
      "text/plain": [
       "<AxesSubplot:xlabel='MaxWinds', ylabel='count'>"
      ]
     },
     "execution_count": 110,
     "metadata": {},
     "output_type": "execute_result"
    },
    {
     "data": {
      "image/png": "[encoded data removed]",
      "text/plain": [
       "<Figure size 640x440 with 1 Axes>"
      ]
     },
     "metadata": {},
     "output_type": "display_data"
    }
   ],
   "source": [
    "sns.countplot(x='MaxWinds', data=df_40)"
   ]
  },
  {
   "cell_type": "code",
   "execution_count": 111,
   "id": "0b576959",
   "metadata": {},
   "outputs": [
    {
     "data": {
      "image/png": "[encoded data removed]",
      "text/plain": [
       "<Figure size 800x560 with 1 Axes>"
      ]
     },
     "metadata": {},
     "output_type": "display_data"
    }
   ],
   "source": [
    "df_50['Date'].hist(bins=20,ec='black',figsize=(10,7),grid=False)\n",
    "plt.xlabel('YEARS',size=15)\n",
    "plt.ylabel('Times Occured',size=15)\n",
    "plt.title('Occurence of Storm with Wind speed between: 50-59 KNOTS',size=20)\n",
    "plt.tight_layout()"
   ]
  },
  {
   "cell_type": "code",
   "execution_count": 112,
   "id": "67f7a730",
   "metadata": {},
   "outputs": [
    {
     "data": {
      "text/plain": [
       "<AxesSubplot:xlabel='MaxWinds', ylabel='count'>"
      ]
     },
     "execution_count": 112,
     "metadata": {},
     "output_type": "execute_result"
    },
    {
     "data": {
      "image/png": "[encoded data removed]",
      "text/plain": [
       "<Figure size 640x440 with 1 Axes>"
      ]
     },
     "metadata": {},
     "output_type": "display_data"
    }
   ],
   "source": [
    "sns.countplot(x='MaxWinds', data=df_50)"
   ]
  },
  {
   "cell_type": "code",
   "execution_count": 73,
   "id": "bcff3499",
   "metadata": {},
   "outputs": [
    {
     "data": {
      "image/png": "[encoded data removed]",
      "text/plain": [
       "<Figure size 720x504 with 1 Axes>"
      ]
     },
     "metadata": {},
     "output_type": "display_data"
    }
   ],
   "source": [
    "df_60['Date'].hist(bins=20,ec='black',figsize=(10,7),grid=False)\n",
    "plt.xlabel('YEARS',size=15)\n",
    "plt.ylabel('Times Occured',size=15)\n",
    "plt.title('Occurence of Storm with Wind speed between: 60-69 KNOTS',size=20)\n",
    "plt.tight_layout()"
   ]
  },
  {
   "cell_type": "code",
   "execution_count": 113,
   "id": "424a5d99",
   "metadata": {},
   "outputs": [
    {
     "data": {
      "text/plain": [
       "<AxesSubplot:xlabel='MaxWinds', ylabel='count'>"
      ]
     },
     "execution_count": 113,
     "metadata": {},
     "output_type": "execute_result"
    },
    {
     "data": {
      "image/png": "[encoded data removed]",
      "text/plain": [
       "<Figure size 640x440 with 1 Axes>"
      ]
     },
     "metadata": {},
     "output_type": "display_data"
    }
   ],
   "source": [
    "sns.countplot(x='MaxWinds', data=df_60)"
   ]
  },
  {
   "cell_type": "code",
   "execution_count": null,
   "id": "c4d17508",
   "metadata": {},
   "outputs": [],
   "source": []
  }
 ],
 "metadata": {
  "kernelspec": {
   "display_name": "Python 3",
   "language": "python",
   "name": "python3"
  },
  "language_info": {
   "codemirror_mode": {
    "name": "ipython",
    "version": 3
   },
   "file_extension": ".py",
   "mimetype": "text/x-python",
   "name": "python",
   "nbconvert_exporter": "python",
   "pygments_lexer": "ipython3",
   "version": "3.8.8"
  }
 },
 "nbformat": 4,
 "nbformat_minor": 5
}
